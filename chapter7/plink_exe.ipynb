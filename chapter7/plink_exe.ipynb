{
 "cells": [
  {
   "cell_type": "code",
   "execution_count": 1,
   "metadata": {},
   "outputs": [
    {
     "name": "stdout",
     "output_type": "stream",
     "text": [
      "/Users/sabe/various/github/python-stat-gene/chapter7\r\n"
     ]
    }
   ],
   "source": [
    "!pwd"
   ]
  },
  {
   "cell_type": "code",
   "execution_count": 2,
   "metadata": {},
   "outputs": [
    {
     "name": "stdout",
     "output_type": "stream",
     "text": [
      "\u001b[01;34m.\u001b[00m\r\n",
      "├── \u001b[01;34mbooksample\u001b[00m\r\n",
      "│   └── \u001b[01;34m1KG_EUR\u001b[00m\r\n",
      "│       ├── \u001b[01;32m1KG_EUR.bed\u001b[00m\r\n",
      "│       ├── \u001b[01;32m1KG_EUR.bim\u001b[00m\r\n",
      "│       ├── \u001b[01;32m1KG_EUR.fam\u001b[00m\r\n",
      "│       ├── \u001b[01;32m1KG_EUR_Sample.txt\u001b[00m\r\n",
      "│       ├── \u001b[01;32m1KG_EUR_Sample.xlsx\u001b[00m\r\n",
      "│       ├── LICENSE\r\n",
      "│       ├── \u001b[01;32mPLINK_Command_1.txt\u001b[00m\r\n",
      "│       ├── \u001b[01;32mPlotIBD.R\u001b[00m\r\n",
      "│       ├── \u001b[01;32mPlotMDS.R\u001b[00m\r\n",
      "│       ├── \u001b[01;32mPlotMDS2.R\u001b[00m\r\n",
      "│       ├── iden_statistics_Ch7.ipynb\r\n",
      "│       ├── \u001b[01;32mplink\u001b[00m\r\n",
      "│       ├── \u001b[01;32mprettify\u001b[00m\r\n",
      "│       ├── toy.map\r\n",
      "│       └── toy.ped\r\n",
      "├── memo.md\r\n",
      "├── \u001b[01;34mout\u001b[00m\r\n",
      "│   ├── test.log\r\n",
      "│   ├── test1.frq\r\n",
      "│   └── test1.log\r\n",
      "├── plink.ipynb\r\n",
      "└── plink_exe.ipynb\r\n",
      "\r\n",
      "3 directories, 21 files\r\n"
     ]
    }
   ],
   "source": [
    "!tree"
   ]
  },
  {
   "cell_type": "code",
   "execution_count": 6,
   "metadata": {},
   "outputs": [
    {
     "name": "stdout",
     "output_type": "stream",
     "text": [
      "PLINK v1.90p 64-bit (16 Jun 2020)              www.cog-genomics.org/plink/1.9/\r\n",
      "(C) 2005-2020 Shaun Purcell, Christopher Chang   GNU General Public License v3\r\n",
      "\r\n",
      "  plink <input flag(s)...> [command flag(s)...] [other flag(s)...]\r\n",
      "  plink --help [flag name(s)...]\r\n",
      "\r\n",
      "Commands include --make-bed, --recode, --flip-scan, --merge-list,\r\n",
      "--write-snplist, --list-duplicate-vars, --freqx, --missing, --test-mishap,\r\n",
      "--hardy, --mendel, --ibc, --impute-sex, --indep-pairphase, --r2, --show-tags,\r\n",
      "--blocks, --distance, --genome, --homozyg, --make-rel, --make-grm-gz,\r\n",
      "--rel-cutoff, --cluster, --pca, --neighbour, --ibs-test, --regress-distance,\r\n",
      "--model, --bd, --gxe, --logistic, --dosage, --lasso, --test-missing,\r\n",
      "--make-perm-pheno, --unrelated-heritability, --tdt, --dfam, --qfam, --tucc,\r\n",
      "--annotate, --clump, --gene-report, --meta-analysis, --epistasis,\r\n",
      "--fast-epistasis, and --score.\r\n",
      "\r\n",
      "\"plink --help | more\" describes all functions (warning: long).\r\n"
     ]
    }
   ],
   "source": [
    "!./booksample/1KG_EUR/plink"
   ]
  },
  {
   "cell_type": "code",
   "execution_count": 7,
   "metadata": {},
   "outputs": [
    {
     "name": "stdout",
     "output_type": "stream",
     "text": [
      "./plink.exe\r\n",
      "\r\n",
      "./plink.exe --bfile 1KG_EUR --out test\r\n",
      "\r\n",
      "./plink.exe --bfile 1KG_EUR --out test1 --freq\r\n",
      "\r\n",
      "./plink.exe --bfile 1KG_EUR --out test2 --maf 0.2 --make-bed\r\n",
      "\r\n",
      "./plink.exe --bfile test2 --out test3 --hardy\r\n",
      "\r\n",
      "./plink.exe --bfile test2 --out test4 --genome\r\n",
      "\r\n",
      "./plink.exe --bfile test2 --out test5 --cluster --mds-plot 4\r\n",
      "\r\n",
      "\r\n"
     ]
    }
   ],
   "source": [
    "#  図20にある代表的なPLINKコマンドを3-3から3-8で順次動かしていきます。\n",
    "\n",
    "!cat ./booksample/1KG_EUR/PLINK_Command_1.txt "
   ]
  },
  {
   "cell_type": "code",
   "execution_count": 5,
   "metadata": {},
   "outputs": [
    {
     "name": "stdout",
     "output_type": "stream",
     "text": [
      "PLINK v1.90p 64-bit (16 Jun 2020)              www.cog-genomics.org/plink/1.9/\r\n",
      "(C) 2005-2020 Shaun Purcell, Christopher Chang   GNU General Public License v3\r\n",
      "Logging to out/test.log.\r\n",
      "Options in effect:\r\n",
      "  --bfile ./booksample/1KG_EUR/1KG_EUR\r\n",
      "  --out out/test\r\n",
      "\r\n",
      "Warning: No output requested.  Exiting.\r\n",
      "\r\n",
      "  plink <input flag(s)...> [command flag(s)...] [other flag(s)...]\r\n",
      "  plink --help [flag name(s)...]\r\n",
      "\r\n",
      "Commands include --make-bed, --recode, --flip-scan, --merge-list,\r\n",
      "--write-snplist, --list-duplicate-vars, --freqx, --missing, --test-mishap,\r\n",
      "--hardy, --mendel, --ibc, --impute-sex, --indep-pairphase, --r2, --show-tags,\r\n",
      "--blocks, --distance, --genome, --homozyg, --make-rel, --make-grm-gz,\r\n",
      "--rel-cutoff, --cluster, --pca, --neighbour, --ibs-test, --regress-distance,\r\n",
      "--model, --bd, --gxe, --logistic, --dosage, --lasso, --test-missing,\r\n",
      "--make-perm-pheno, --unrelated-heritability, --tdt, --dfam, --qfam, --tucc,\r\n",
      "--annotate, --clump, --gene-report, --meta-analysis, --epistasis,\r\n",
      "--fast-epistasis, and --score.\r\n",
      "\r\n",
      "\"plink --help | more\" describes all functions (warning: long).\r\n"
     ]
    }
   ],
   "source": [
    "# ファイルの読み込み\n",
    "!./booksample/1KG_EUR/plink --bfile ./booksample/1KG_EUR/1KG_EUR --out out/test"
   ]
  },
  {
   "cell_type": "code",
   "execution_count": 8,
   "metadata": {},
   "outputs": [
    {
     "name": "stdout",
     "output_type": "stream",
     "text": [
      "PLINK v1.90p 64-bit (16 Jun 2020)              www.cog-genomics.org/plink/1.9/\n",
      "(C) 2005-2020 Shaun Purcell, Christopher Chang   GNU General Public License v3\n",
      "Logging to out/test.log.\n",
      "Options in effect:\n",
      "  --bfile ./booksample/1KG_EUR/1KG_EUR\n",
      "  --freq\n",
      "  --out out/test\n",
      "\n",
      "8192 MB RAM detected; reserving 4096 MB for main workspace.\n",
      "8830185 variants loaded from .bim file.\n",
      "381 people (178 males, 203 females) loaded from .fam.\n",
      "381 phenotype values loaded from .fam.\n",
      "Using 1 thread (no multithreaded calculations invoked).\n",
      "Before main variant filters, 381 founders and 0 nonfounders present.\n",
      "Calculating allele frequencies... 10111213141516171819202122232425262728293031323334353637383940414243444546474849505152535455565758596061626364656667686970717273747576777879808182838485868788899091929394959697989 done.\n",
      "--freq: Allele frequencies (founders only) written to out/test.frq .\n"
     ]
    }
   ],
   "source": [
    "#  --freq　をつけると各SNPのアレル頻度を計算する\n",
    "!./booksample/1KG_EUR/plink --bfile ./booksample/1KG_EUR/1KG_EUR --out out/test --freq"
   ]
  },
  {
   "cell_type": "code",
   "execution_count": 10,
   "metadata": {},
   "outputs": [
    {
     "name": "stdout",
     "output_type": "stream",
     "text": [
      " CHR             SNP   A1   A2          MAF  NCHROBS\r\n",
      "   1      chr1:10469    G    C        0.021      762\r\n",
      "   1      rs55998931    T    C       0.0643      762\r\n",
      "   1      chr1:10611    G    C      0.05906      762\r\n",
      "   1      chr1:10618    A    G      0.03018      762\r\n",
      "   1      chr1:10622    T    G       0.2336      762\r\n",
      "   1      chr1:10623    T    C       0.1102      762\r\n",
      "   1      chr1:11187    G    A       0.3766      762\r\n",
      "   1      chr1:11409    G    A       0.2848      762\r\n",
      "   1      chr1:11457    C    G       0.2454      762\r\n"
     ]
    }
   ],
   "source": [
    "!head  ./out/test1.frq"
   ]
  },
  {
   "cell_type": "code",
   "execution_count": 11,
   "metadata": {},
   "outputs": [
    {
     "name": "stdout",
     "output_type": "stream",
     "text": [
      " 8830186 ./out/test1.frq\r\n"
     ]
    }
   ],
   "source": [
    "!wc -l ./out/test1.frq"
   ]
  },
  {
   "cell_type": "markdown",
   "metadata": {},
   "source": [
    "## 3-4 アレル頻度とは\n",
    "- 高校生物の説明\n",
    "\n",
    "    - 遺伝子座（ある特定の形質に関する遺伝情報が存在する染色体の部位）にある遺伝子は、**父親と母親それぞれから遺伝情報を引き継ぐため、異なる遺伝情報を持つ**ことになります。\n",
    "    - このとき**相同の遺伝子座にあって、異なる遺伝情報を有する遺伝子を対立遺伝子（allele、アレル)**といい、**ヒトをはじめとした２倍体の生物ではそれぞれの遺伝子座について２つの対立遺伝子を持つ**ことになります。\n",
    "\n",
    "    - 仮に対立遺伝子(アレル)をAとaとした場合、対立遺伝子の組み合わせは両親から同じ種類の遺伝子を引き継ぐホモ接合（１.AAあるいは２.aa）、異なる種類の遺伝子を引き継ぐヘテロ接合（３.Aa）の３種類が考えられます。このような対立遺伝子の組み合わせを遺伝子型と言い、\n",
    "        - これを塩基配列レベルで眺めると１塩基レベルでAA, Aa, aaが存在する：実際にはA, aのそれぞれにG/A/T/Cのいずれか\n",
    "        - 例：　A = C. a = Gとなっている場合を示したのが、図23A. 遺伝子型（ジェノタイプ）とB アレル\n",
    "    - 各遺伝子型に対応した形質を表現型と言います。\n",
    "    \n",
    " - 集団内での頻度を　アレル頻度, ジェノタイプ頻度\n",
    "     - 集団内での頻度の小さいアレル= マイナーアレル、その頻度=マイナーアレル頻度\n",
    " - 頻度の計算（図23）\n",
    "     - ジェノタイプ頻度: AA, Aa, aaを持つ人の集団内の比　サンプル数/ 総サンプル数\n",
    "     - アレル頻度：父親・母親から一つずつアレルを引き継いでいることを考慮\n",
    "         Aのアレル数は、 AAのサンプルから 2 x サンプル数、Aaからは1x サンプル数, aaからは0 x サンプル数の総和\n",
    "         aのアレル数も同様に計算\n",
    "         全体の総アレル数でそれぞれを割って頻度を求める"
   ]
  },
  {
   "cell_type": "markdown",
   "metadata": {},
   "source": [
    "## 3-5 マイナーアレル頻度によるSNPのフィルタリング\n",
    "- 低いアレル頻度のSNPがゲノム中では多い\n",
    "    - 情報量が少ない\n",
    "    - シークエンスエラーとの区別が難しい\n",
    "    - 通常、1% 以下を除いて解析\n",
    "        - ここでは20%できる"
   ]
  },
  {
   "cell_type": "code",
   "execution_count": 13,
   "metadata": {},
   "outputs": [
    {
     "name": "stdout",
     "output_type": "stream",
     "text": [
      "PLINK v1.90p 64-bit (16 Jun 2020)              www.cog-genomics.org/plink/1.9/\n",
      "(C) 2005-2020 Shaun Purcell, Christopher Chang   GNU General Public License v3\n",
      "Logging to ./out/test2.log.\n",
      "Options in effect:\n",
      "  --bfile ./booksample/1KG_EUR/1KG_EUR\n",
      "  --maf 0.2\n",
      "  --make-bed\n",
      "  --out ./out/test2\n",
      "\n",
      "8192 MB RAM detected; reserving 4096 MB for main workspace.\n",
      "8830185 variants loaded from .bim file.\n",
      "381 people (178 males, 203 females) loaded from .fam.\n",
      "381 phenotype values loaded from .fam.\n",
      "Using 1 thread (no multithreaded calculations invoked).\n",
      "Before main variant filters, 381 founders and 0 nonfounders present.\n",
      "Calculating allele frequencies... 10111213141516171819202122232425262728293031323334353637383940414243444546474849505152535455565758596061626364656667686970717273747576777879808182838485868788899091929394959697989 done.\n",
      "5639057 variants removed due to minor allele threshold(s)\n",
      "(--maf/--max-maf/--mac/--max-mac).\n",
      "3191128 variants and 381 people pass filters and QC.\n",
      "Among remaining phenotypes, 0 are cases and 381 are controls.\n",
      "--make-bed to ./out/test2.bed + ./out/test2.bim + ./out/test2.fam ... 101112131415161718192021222324252627282930313233343536373839404142434445464748495051525354555657585960616263646566676869707172737475767778798081828384858687888990919293949596979899done.\n",
      "\n",
      "real\t0m12.527s\n",
      "user\t0m5.723s\n",
      "sys\t0m3.809s\n"
     ]
    }
   ],
   "source": [
    "# --maf 0.2   20%以下を除外\n",
    "# --make-bed  フィルタリング後の bed, bim, fam形式ファイルを作成\n",
    "!time ./booksample/1KG_EUR/plink --bfile ./booksample/1KG_EUR/1KG_EUR --out ./out/test2 --maf 0.2 --make-bed"
   ]
  },
  {
   "cell_type": "code",
   "execution_count": 14,
   "metadata": {},
   "outputs": [
    {
     "name": "stdout",
     "output_type": "stream",
     "text": [
      " 3191128 ./out/test2.bim\r\n"
     ]
    }
   ],
   "source": [
    "# SNP数を確認\n",
    "!wc -l ./out/test2.bim"
   ]
  },
  {
   "cell_type": "code",
   "execution_count": 15,
   "metadata": {},
   "outputs": [
    {
     "name": "stdout",
     "output_type": "stream",
     "text": [
      "1\tchr1:10622\t0\t10622\tT\tG\r\n",
      "1\tchr1:11187\t0\t11187\tG\tA\r\n",
      "1\tchr1:11409\t0\t11409\tG\tA\r\n",
      "1\tchr1:11457\t0\t11457\tC\tG\r\n",
      "1\tchr1:11565\t0\t11565\tG\tT\r\n"
     ]
    }
   ],
   "source": [
    "# テキスト形式\n",
    "!head -n 5 ./out/test2.bim"
   ]
  },
  {
   "cell_type": "code",
   "execution_count": 16,
   "metadata": {},
   "outputs": [
    {
     "name": "stdout",
     "output_type": "stream",
     "text": [
      "l\u001b\u0001� *�����������������믻�����������;��\u000e����\u0002����������������������������������ﯯ������\u0003�8��꣫�«��������������껪�������; (*��\u0002��\u0002������������������ﾮ���뾺������﫪��\u0002�������ꮯ������������������������;/*+��ª������뫫�������껺����������������謹�������\u0003���������������뿋������������뻫����?��.�모�\"*��꾻��������꯮��������뫾����꯺���������\u0003꺮�������������������������������꿰�.��*� *���ꮿ���￫����뿯��������搜����.��������\u0003�\"+�����ˮ�������\u000b",
      "���������������ˮ�. \u000e\b�� �\u0000����꾫����ꫪ�����������:�������������ﻪ\u0003�\"/������￫�����������������������꺲�\r\n",
      "��*�� \u0000����������������뮺���뾯�����������������\u0003�\"�ﮢ��¾����˻.�����������ʻ����κ��0\f",
      "\b�ˀ��\u0000���������ꫫ����������������;������������ﮮ���\u0003�\"\u000f�ﳻ�¯��������\r\n",
      "���������꺾Ͼ�.0\b\r\n",
      "�� ��\u0000\u0000���뫿����﾿����꫺�����������������ꪯ��\u0003꺯���������������������������������󿲌\r\n",
      "�Ϫ����������������￮���������������믾;�������\u0003�ꪾ��ꫯ��������.����+믯������������*�飼��������������������������������뻺�����������\u0003���������+�����請;�뺪\u000e����������������������������꫺���몮�������ꮯ꾮�������������ﻮ��\u0003���������;�������������������������������������������믿������������������:��ﾪ�������\u0003��/몣ꂣ���󪪪������㿸ʮ��������3몊����\b��������������������뮪������������\u0003ˠ��������������\u000e�������������Ͽ�\u000e���*�\"*뾿����������ꪫ���*��������뫯*���꨺��\u0002������꿿�꯸���������+��������������������:��������������￿���������������������������\u0003���ꮿ�����꾪������������ﾢ����������������������������￪��?��������㫿���������������\u0002ò*ﯸ���+�������������+�����������˪�::�\r\n"
     ]
    }
   ],
   "source": [
    "# バイナリ形式\n",
    "!head -n 5 ./out/test2.bed"
   ]
  },
  {
   "cell_type": "code",
   "execution_count": 18,
   "metadata": {},
   "outputs": [
    {
     "name": "stdout",
     "output_type": "stream",
     "text": [
      "PLINK v1.90p 64-bit (16 Jun 2020)              www.cog-genomics.org/plink/1.9/\n",
      "(C) 2005-2020 Shaun Purcell, Christopher Chang   GNU General Public License v3\n",
      "Logging to ./out/test2_recode.log.\n",
      "Options in effect:\n",
      "  --bfile ./booksample/1KG_EUR/1KG_EUR\n",
      "  --maf 0.2\n",
      "  --out ./out/test2_recode\n",
      "  --recode\n",
      "\n",
      "8192 MB RAM detected; reserving 4096 MB for main workspace.\n",
      "8830185 variants loaded from .bim file.\n",
      "381 people (178 males, 203 females) loaded from .fam.\n",
      "381 phenotype values loaded from .fam.\n",
      "Using 1 thread (no multithreaded calculations invoked).\n",
      "Before main variant filters, 381 founders and 0 nonfounders present.\n",
      "Calculating allele frequencies... 10111213141516171819202122232425262728293031323334353637383940414243444546474849505152535455565758596061626364656667686970717273747576777879808182838485868788899091929394959697989 done.\n",
      "5639057 variants removed due to minor allele threshold(s)\n",
      "(--maf/--max-maf/--mac/--max-mac).\n",
      "3191128 variants and 381 people pass filters and QC.\n",
      "Among remaining phenotypes, 0 are cases and 381 are controls.\n",
      "--recode ped to ./out/test2_recode.ped + ./out/test2_recode.map ... 101112131415161718192021222324252627282930313233343536373839404142434445464748495051525354555657585960616263646566676869707172737475767778798081828384858687888990919293949596979899done.\n",
      "\n",
      "real\t0m59.281s\n",
      "user\t0m35.848s\n",
      "sys\t0m11.816s\n"
     ]
    }
   ],
   "source": [
    "# ped, map形式で出力\n",
    "!time ./booksample/1KG_EUR/plink --bfile ./booksample/1KG_EUR/1KG_EUR --out ./out/test2_recode --maf 0.2 --recode"
   ]
  },
  {
   "cell_type": "markdown",
   "metadata": {},
   "source": [
    "通常のI%と比べると扱うSNP数が1/2くらい"
   ]
  },
  {
   "cell_type": "markdown",
   "metadata": {},
   "source": [
    "## 3-6 Hardy-Weinberg検定(HWE検定)\n",
    "- 一定条件下で\n",
    "    - アレル頻度からジェノタイプ頻度を推定 \n",
    "    - 図23AからBを計算したが、その逆は仮定なしでは行えない。\n",
    "    \n",
    "- 前提条件\n",
    "    1. 集団サイズが大きい\n",
    "        - どれくらい？理想的には無限大である。無作為抽出の効果によって生じる、遺伝子プールにおける対立遺伝子頻度の変化がない(遺伝的浮動がない)くらい大きな集団\n",
    "    2. 集団が均一\n",
    "        - どういう意味において均一？他の個体群との間で個体の流出・流入がない。(個体の流出・流入は、集団中の対立遺伝子頻度（ある遺伝的変異を持った構成個体の割合）を変化させる)\n",
    "    3. ランダム交配である\n",
    "    4. その遺伝子座に自然選択がない\n",
    "        - 遺伝子型間で適応度に差がない \n",
    "    5. その遺伝子座に突然変異がない\n",
    "    \n",
    "- HW平衡\n",
    "    前提条件が成立していれば、図２６の四角囲みに示すジェノタイプ頻度となる"
   ]
  },
  {
   "cell_type": "markdown",
   "metadata": {},
   "source": [
    "- この仮定のもとで、アレル頻度からgenotype頻度を計算・推定し、実測値との乖離を検定するのが、HWE検定\n",
    "\n",
    "- この仮定が成立しているものとして図27のようにジェノタイプ頻度の推定値をアレル頻度から計算し、実測値との乖離の有無を検定する\n",
    "    ###### アレル　C 頻度　0.23\n",
    "    ###### アレル　G 頻度　1-0.23 = 0.77\n",
    "    ###### ↓\n",
    "    ###### genotype CC頻度 0.23^2\n",
    "    ######                 CG        2*0.23*0.77\n",
    "    ######                 GG       0.77^2\n",
    "- SNPデータのQCとして用いられる"
   ]
  },
  {
   "cell_type": "markdown",
   "metadata": {},
   "source": [
    "- 各SNPのHWEの計算\n",
    "\n",
    " ./plink_mac_20200616/plink --bfile 1KG_EUR --out ./output/test2 --maf 0.2 --make-bed\n",
    "\n",
    "で作成した、フィルタリング後の bed, bim, fam形式ファイルをinputに使います"
   ]
  },
  {
   "cell_type": "code",
   "execution_count": 20,
   "metadata": {},
   "outputs": [
    {
     "name": "stdout",
     "output_type": "stream",
     "text": [
      "PLINK v1.90p 64-bit (16 Jun 2020)              www.cog-genomics.org/plink/1.9/\n",
      "(C) 2005-2020 Shaun Purcell, Christopher Chang   GNU General Public License v3\n",
      "Logging to ./out/test3.log.\n",
      "Options in effect:\n",
      "  --bfile ./out/test2\n",
      "  --hardy\n",
      "  --out ./out/test3\n",
      "\n",
      "8192 MB RAM detected; reserving 4096 MB for main workspace.\n",
      "3191128 variants loaded from .bim file.\n",
      "381 people (178 males, 203 females) loaded from .fam.\n",
      "381 phenotype values loaded from .fam.\n",
      "Using 1 thread (no multithreaded calculations invoked).\n",
      "Before main variant filters, 381 founders and 0 nonfounders present.\n",
      "Calculating allele frequencies... 10111213141516171819202122232425262728293031323334353637383940414243444546474849505152535455565758596061626364656667686970717273747576777879808182838485868788899091929394959697989 done.\n",
      "--hardy: Writing Hardy-Weinberg report (founders only) to ./out/test3.hwe ...\n",
      "101112131415161718192021222324252627282930313233343536373839404142434445464748495051525354555657585960616263646566676869707172737475767778798081828384858687888990919293949596979899done.\n",
      "\n",
      "real\t0m6.082s\n",
      "user\t0m3.209s\n",
      "sys\t0m0.854s\n"
     ]
    }
   ],
   "source": [
    "# 　オプション　--hardy　で検定する\n",
    "!time ./booksample/1KG_EUR/plink --bfile ./out/test2 --out ./out/test3 --hardy"
   ]
  },
  {
   "cell_type": "code",
   "execution_count": 21,
   "metadata": {},
   "outputs": [
    {
     "name": "stdout",
     "output_type": "stream",
     "text": [
      "./out/test3.hwe ./out/test3.log\r\n"
     ]
    }
   ],
   "source": [
    "!ls ./out/test3.*"
   ]
  },
  {
   "cell_type": "code",
   "execution_count": 22,
   "metadata": {},
   "outputs": [
    {
     "name": "stdout",
     "output_type": "stream",
     "text": [
      " 9573385 ./out/test3.hwe\r\n"
     ]
    }
   ],
   "source": [
    "!wc -l ./out/test3.hwe"
   ]
  },
  {
   "cell_type": "code",
   "execution_count": 23,
   "metadata": {},
   "outputs": [
    {
     "name": "stdout",
     "output_type": "stream",
     "text": [
      " CHR             SNP     TEST   A1   A2                 GENO   O(HET)   E(HET)            P \r\n",
      "   1      chr1:10622      ALL    T    G           23/132/226   0.3465   0.3581       0.5665\r\n",
      "   1      chr1:10622      AFF    T    G                0/0/0      nan      nan            1\r\n",
      "   1      chr1:10622    UNAFF    T    G           23/132/226   0.3465   0.3581       0.5665\r\n",
      "   1      chr1:11187      ALL    G    A           35/217/129   0.5696   0.4696    3.251e-05\r\n",
      "   1      chr1:11187      AFF    G    A                0/0/0      nan      nan            1\r\n",
      "   1      chr1:11187    UNAFF    G    A           35/217/129   0.5696   0.4696    3.251e-05\r\n",
      "   1      chr1:11409      ALL    G    A           14/189/178   0.4961   0.4074    1.499e-05\r\n",
      "   1      chr1:11409      AFF    G    A                0/0/0      nan      nan            1\r\n",
      "   1      chr1:11409    UNAFF    G    A           14/189/178   0.4961   0.4074    1.499e-05\r\n"
     ]
    }
   ],
   "source": [
    "!head ./out/test3.hwe"
   ]
  },
  {
   "cell_type": "markdown",
   "metadata": {},
   "source": [
    "## 3-7 近縁関係の推定"
   ]
  },
  {
   "cell_type": "code",
   "execution_count": 24,
   "metadata": {},
   "outputs": [
    {
     "name": "stdout",
     "output_type": "stream",
     "text": [
      "PLINK v1.90p 64-bit (16 Jun 2020)              www.cog-genomics.org/plink/1.9/\n",
      "(C) 2005-2020 Shaun Purcell, Christopher Chang   GNU General Public License v3\n",
      "Logging to ./out/test4.log.\n",
      "Options in effect:\n",
      "  --bfile ./out/test2\n",
      "  --genome\n",
      "  --out ./out/test4\n",
      "\n",
      "8192 MB RAM detected; reserving 4096 MB for main workspace.\n",
      "3191128 variants loaded from .bim file.\n",
      "381 people (178 males, 203 females) loaded from .fam.\n",
      "381 phenotype values loaded from .fam.\n",
      "Using up to 4 threads (change this with --threads).\n",
      "Before main variant filters, 381 founders and 0 nonfounders present.\n",
      "Calculating allele frequencies... 10111213141516171819202122232425262728293031323334353637383940414243444546474849505152535455565758596061626364656667686970717273747576777879808182838485868788899091929394959697989 done.\n",
      "3191128 variants and 381 people pass filters and QC.\n",
      "Among remaining phenotypes, 0 are cases and 381 are controls.\n",
      "IBD calculations complete.  \n",
      "Finished writing ./out/test4.genome .\n",
      "\n",
      "real\t0m12.225s\n",
      "user\t0m17.492s\n",
      "sys\t0m1.237s\n"
     ]
    }
   ],
   "source": [
    "# 　オプション　--genome　：　全サンプル総当たりで、全SNPのペア比較をおこない、個体間の遺伝的な近さを推定する　（図29）\n",
    "!time ./booksample/1KG_EUR/plink --bfile ./out/test2 --out ./out/test4 --genome"
   ]
  },
  {
   "cell_type": "code",
   "execution_count": 26,
   "metadata": {},
   "outputs": [
    {
     "name": "stdout",
     "output_type": "stream",
     "text": [
      "     FID1     IID1     FID2     IID2 RT    EZ      Z0      Z1      Z2  PI_HAT PHE       DST     PPC   RATIO\r\n",
      "  HG00096  HG00096  HG00097  HG00097 UN    NA  0.9964  0.0036  0.0000  0.0018  -1  0.661156  0.9950  2.1610\r\n",
      "  HG00096  HG00096  HG00099  HG00099 UN    NA  0.9656  0.0344  0.0000  0.0172  -1  0.664055  0.9981  2.1820\r\n",
      "  HG00096  HG00096  HG00100  HG00100 UN    NA  0.9837  0.0163  0.0000  0.0082  -1  0.661890  0.9980  2.1816\r\n",
      "  HG00096  HG00096  HG00101  HG00101 UN    NA  0.9798  0.0202  0.0000  0.0101  -1  0.661991  0.9935  2.1548\r\n",
      "  HG00096  HG00096  HG00102  HG00102 UN    NA  0.9725  0.0275  0.0000  0.0137  -1  0.661811  0.9396  2.0949\r\n",
      "  HG00096  HG00096  HG00103  HG00103 UN    NA  0.9855  0.0145  0.0000  0.0072  -1  0.661842  0.9998  2.2258\r\n",
      "  HG00096  HG00096  HG00104  HG00104 UN    NA  1.0000  0.0000  0.0000  0.0000  -1  0.658064  0.6962  2.0307\r\n",
      "  HG00096  HG00096  HG00106  HG00106 UN    NA  0.9809  0.0156  0.0034  0.0113  -1  0.663958  0.9740  2.1202\r\n",
      "  HG00096  HG00096  HG00108  HG00108 UN    NA  0.9865  0.0079  0.0055  0.0095  -1  0.663731  0.9991  2.1975\r\n"
     ]
    }
   ],
   "source": [
    "!head ./out/test4.genome"
   ]
  },
  {
   "cell_type": "markdown",
   "metadata": {},
   "source": [
    "遺伝情報をもとにペア間の遺伝的距離の近さを定義する方法 (p143 青囲み)\n",
    "1. IBS (identity-by-state)\n",
    "2. IBD (identity-by-descent)  \n",
    "(グラフはここでは飛ばす)"
   ]
  },
  {
   "cell_type": "markdown",
   "metadata": {},
   "source": [
    "## 3-8 サンプルの遺伝的背景\n",
    "\n",
    "- サンプルのクラスタリングをMDS(多次元尺度構成法)で行う"
   ]
  },
  {
   "cell_type": "code",
   "execution_count": 27,
   "metadata": {},
   "outputs": [
    {
     "name": "stdout",
     "output_type": "stream",
     "text": [
      "PLINK v1.90p 64-bit (16 Jun 2020)              www.cog-genomics.org/plink/1.9/\n",
      "(C) 2005-2020 Shaun Purcell, Christopher Chang   GNU General Public License v3\n",
      "Logging to ./out/test5.log.\n",
      "Options in effect:\n",
      "  --bfile ./out/test2\n",
      "  --cluster\n",
      "  --mds-plot 4\n",
      "  --out ./out/test5\n",
      "\n",
      "8192 MB RAM detected; reserving 4096 MB for main workspace.\n",
      "3191128 variants loaded from .bim file.\n",
      "381 people (178 males, 203 females) loaded from .fam.\n",
      "381 phenotype values loaded from .fam.\n",
      "Using up to 4 threads (change this with --threads).\n",
      "Before main variant filters, 381 founders and 0 nonfounders present.\n",
      "Calculating allele frequencies... 10111213141516171819202122232425262728293031323334353637383940414243444546474849505152535455565758596061626364656667686970717273747576777879808182838485868788899091929394959697989 done.\n",
      "3191128 variants and 381 people pass filters and QC.\n",
      "Among remaining phenotypes, 0 are cases and 381 are controls.\n",
      "Distance matrix calculation complete.\n",
      "Clustering... done.                        \n",
      "Cluster solution written to ./out/test5.cluster1 , ./out/test5.cluster2 , and43536373839404142434445464748495051525354555657585960616263646566676869707172737475767778798081828384858687888990919293949596979899100%\n",
      "./out/test5.cluster3 .\n",
      "Performing multidimensional scaling analysis (SVD algorithm, 4\n",
      "dimensions)... done.\n",
      "MDS solution written to ./out/test5.mds .\n",
      "\n",
      "real\t0m9.695s\n",
      "user\t0m10.321s\n",
      "sys\t0m1.172s\n"
     ]
    }
   ],
   "source": [
    "!time ./booksample/1KG_EUR/plink --bfile ./out/test2 --out ./out/test5 --cluster --mds-plot 4"
   ]
  },
  {
   "cell_type": "code",
   "execution_count": 28,
   "metadata": {},
   "outputs": [
    {
     "name": "stdout",
     "output_type": "stream",
     "text": [
      "-rw-r--r--  1 sabe  staff   6.0K  8 23 18:41 ./out/test5.cluster1\r\n",
      "-rw-r--r--  1 sabe  staff   6.7K  8 23 18:41 ./out/test5.cluster2\r\n",
      "-rw-r--r--  1 sabe  staff   466K  8 23 18:41 ./out/test5.cluster3\r\n",
      "-rw-r--r--  1 sabe  staff   1.1K  8 23 18:41 ./out/test5.log\r\n",
      "-rw-r--r--  1 sabe  staff    30K  8 23 18:41 ./out/test5.mds\r\n"
     ]
    }
   ],
   "source": [
    "!ls -lh ./out/test5*"
   ]
  },
  {
   "cell_type": "code",
   "execution_count": null,
   "metadata": {},
   "outputs": [],
   "source": []
  }
 ],
 "metadata": {
  "kernelspec": {
   "display_name": "Python 3",
   "language": "python",
   "name": "python3"
  },
  "language_info": {
   "codemirror_mode": {
    "name": "ipython",
    "version": 3
   },
   "file_extension": ".py",
   "mimetype": "text/x-python",
   "name": "python",
   "nbconvert_exporter": "python",
   "pygments_lexer": "ipython3",
   "version": "3.6.5"
  }
 },
 "nbformat": 4,
 "nbformat_minor": 2
}
