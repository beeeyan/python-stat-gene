{
 "cells": [
  {
   "cell_type": "code",
   "execution_count": 1,
   "metadata": {},
   "outputs": [
    {
     "name": "stdout",
     "output_type": "stream",
     "text": [
      "/Users/sabe/various/github/python-stat-gene/chapter8\r\n"
     ]
    }
   ],
   "source": [
    "!pwd"
   ]
  },
  {
   "cell_type": "code",
   "execution_count": 1,
   "metadata": {},
   "outputs": [
    {
     "name": "stdout",
     "output_type": "stream",
     "text": [
      "\u001b[01;34m.\u001b[00m\r\n",
      "├── \u001b[01;34mbooksample\u001b[00m\r\n",
      "│   └── \u001b[01;34mGenomeData_2\u001b[00m\r\n",
      "│       └── \u001b[01;34m1KG_EUR\u001b[00m\r\n",
      "│           ├── \u001b[01;32m1KG_EUR_QC.bed\u001b[00m\r\n",
      "│           ├── \u001b[01;32m1KG_EUR_QC.bim\u001b[00m\r\n",
      "│           ├── \u001b[01;32m1KG_EUR_QC.fam\u001b[00m\r\n",
      "│           ├── \u001b[01;32mExp_BLK.txt\u001b[00m\r\n",
      "│           ├── \u001b[01;32mHistogramPlot.R\u001b[00m\r\n",
      "│           ├── LICENSE\r\n",
      "│           ├── \u001b[01;32mMDS_1.txt\u001b[00m\r\n",
      "│           ├── \u001b[01;32mManhattanPlot.R\u001b[00m\r\n",
      "│           ├── \u001b[01;32mRegionalPlot.R\u001b[00m\r\n",
      "│           ├── \u001b[01;32mphenotype1.txt\u001b[00m\r\n",
      "│           ├── \u001b[01;32mplink\u001b[00m\r\n",
      "│           ├── \u001b[01;32mplink.exe\u001b[00m\r\n",
      "│           ├── \u001b[01;32mprettify\u001b[00m\r\n",
      "│           ├── toy.map\r\n",
      "│           └── toy.ped\r\n",
      "├── chapter8.Rmd\r\n",
      "├── chapter8.ipynb\r\n",
      "├── chapter8.nb.html\r\n",
      "└── memo.md\r\n",
      "\r\n",
      "3 directories, 19 files\r\n"
     ]
    }
   ],
   "source": [
    "!tree"
   ]
  },
  {
   "cell_type": "code",
   "execution_count": null,
   "metadata": {},
   "outputs": [],
   "source": [
    "# GWAS解析？\n",
    "!time ./plink"
   ]
  },
  {
   "cell_type": "markdown",
   "metadata": {},
   "source": [
    "### 2020/10/03（8章二回目）"
   ]
  },
  {
   "cell_type": "code",
   "execution_count": 3,
   "metadata": {},
   "outputs": [
    {
     "name": "stdout",
     "output_type": "stream",
     "text": [
      "PLINK v1.90p 64-bit (16 Jun 2020)              www.cog-genomics.org/plink/1.9/\r\n",
      "(C) 2005-2020 Shaun Purcell, Christopher Chang   GNU General Public License v3\r\n",
      "\r\n",
      "  plink <input flag(s)...> [command flag(s)...] [other flag(s)...]\r\n",
      "  plink --help [flag name(s)...]\r\n",
      "\r\n",
      "Commands include --make-bed, --recode, --flip-scan, --merge-list,\r\n",
      "--write-snplist, --list-duplicate-vars, --freqx, --missing, --test-mishap,\r\n",
      "--hardy, --mendel, --ibc, --impute-sex, --indep-pairphase, --r2, --show-tags,\r\n",
      "--blocks, --distance, --genome, --homozyg, --make-rel, --make-grm-gz,\r\n",
      "--rel-cutoff, --cluster, --pca, --neighbour, --ibs-test, --regress-distance,\r\n",
      "--model, --bd, --gxe, --logistic, --dosage, --lasso, --test-missing,\r\n",
      "--make-perm-pheno, --unrelated-heritability, --tdt, --dfam, --qfam, --tucc,\r\n",
      "--annotate, --clump, --gene-report, --meta-analysis, --epistasis,\r\n",
      "--fast-epistasis, and --score.\r\n",
      "\r\n",
      "\"plink --help | more\" describes all functions (warning: long).\r\n"
     ]
    }
   ],
   "source": [
    "!./booksample/GenomeData_2/1KG_EUR/plink"
   ]
  },
  {
   "cell_type": "code",
   "execution_count": 8,
   "metadata": {},
   "outputs": [
    {
     "name": "stdout",
     "output_type": "stream",
     "text": [
      "PLINK v1.90p 64-bit (16 Jun 2020)              www.cog-genomics.org/plink/1.9/\n",
      "(C) 2005-2020 Shaun Purcell, Christopher Chang   GNU General Public License v3\n",
      "Logging to 1KG_EUR_QC_Exp_BLK.log.\n",
      "Options in effect:\n",
      "  --bfile ./booksample/GenomeData_2/1KG_EUR/1KG_EUR_QC\n",
      "  --ci 0.95\n",
      "  --linear\n",
      "  --out 1KG_EUR_QC_Exp_BLK\n",
      "  --pheno ./booksample/GenomeData_2/1KG_EUR/Exp_BLK.txt\n",
      "\n",
      "8192 MB RAM detected; reserving 4096 MB for main workspace.\n",
      "1349118 variants loaded from .bim file.\n",
      "381 people (178 males, 203 females) loaded from .fam.\n",
      "348 phenotype values present after --pheno.\n",
      "Using 1 thread (no multithreaded calculations invoked).\n",
      "Before main variant filters, 381 founders and 0 nonfounders present.\n",
      "Calculating allele frequencies... 10111213141516171819202122232425262728293031323334353637383940414243444546474849505152535455565758596061626364656667686970717273747576777879808182838485868788899091929394959697989 done.\n",
      "1349118 variants and 381 people pass filters and QC.\n",
      "Phenotype data is quantitative.\n",
      "Writing linear model association results to 1KG_EUR_QC_Exp_BLK.assoc.linear ...\n",
      "101112131415161718192021222324252627282930313233343536373839404142434445464748495051525354555657585960616263646566676869707172737475767778798081828384858687888990919293949596979899done.\n",
      "       23.14 real        15.71 user         1.04 sys\n"
     ]
    }
   ],
   "source": [
    "!time ./booksample/GenomeData_2/1KG_EUR/plink --bfile ./booksample/GenomeData_2/1KG_EUR/1KG_EUR_QC --out 1KG_EUR_QC_Exp_BLK --pheno ./booksample/GenomeData_2/1KG_EUR/Exp_BLK.txt --linear --ci 0.95"
   ]
  },
  {
   "cell_type": "code",
   "execution_count": null,
   "metadata": {},
   "outputs": [],
   "source": []
  }
 ],
 "metadata": {
  "kernelspec": {
   "display_name": "Python 3",
   "language": "python",
   "name": "python3"
  },
  "language_info": {
   "codemirror_mode": {
    "name": "ipython",
    "version": 3
   },
   "file_extension": ".py",
   "mimetype": "text/x-python",
   "name": "python",
   "nbconvert_exporter": "python",
   "pygments_lexer": "ipython3",
   "version": "3.6.8"
  }
 },
 "nbformat": 4,
 "nbformat_minor": 2
}
