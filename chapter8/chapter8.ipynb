{
 "cells": [
  {
   "cell_type": "code",
   "execution_count": 1,
   "metadata": {},
   "outputs": [
    {
     "name": "stdout",
     "output_type": "stream",
     "text": [
      "/Users/sabe/various/github/python-stat-gene/chapter8\r\n"
     ]
    }
   ],
   "source": [
    "!pwd"
   ]
  },
  {
   "cell_type": "code",
   "execution_count": 2,
   "metadata": {},
   "outputs": [
    {
     "name": "stdout",
     "output_type": "stream",
     "text": [
      "\u001b[01;34m.\u001b[00m\r\n",
      "├── \u001b[01;34mbooksample\u001b[00m\r\n",
      "│   └── \u001b[01;34mGenomeData解�\\236\\220�\\205��\\226\\2002\u001b[00m\r\n",
      "│       └── \u001b[01;34m1KG_EUR\u001b[00m\r\n",
      "│           ├── \u001b[01;32m1KG_EUR_QC.bed\u001b[00m\r\n",
      "│           ├── \u001b[01;32m1KG_EUR_QC.bim\u001b[00m\r\n",
      "│           ├── \u001b[01;32m1KG_EUR_QC.fam\u001b[00m\r\n",
      "│           ├── \u001b[01;32mExp_BLK.txt\u001b[00m\r\n",
      "│           ├── \u001b[01;32mHistogramPlot.R\u001b[00m\r\n",
      "│           ├── LICENSE\r\n",
      "│           ├── \u001b[01;32mMDS_1.txt\u001b[00m\r\n",
      "│           ├── \u001b[01;32mManhattanPlot.R\u001b[00m\r\n",
      "│           ├── \u001b[01;32mRegionalPlot.R\u001b[00m\r\n",
      "│           ├── \u001b[01;32mphenotype1.txt\u001b[00m\r\n",
      "│           ├── \u001b[01;32mplink\u001b[00m\r\n",
      "│           ├── \u001b[01;32mplink.exe\u001b[00m\r\n",
      "│           ├── \u001b[01;32mprettify\u001b[00m\r\n",
      "│           ├── toy.map\r\n",
      "│           └── toy.ped\r\n",
      "├── chapter8.ipynb\r\n",
      "└── memo.md\r\n",
      "\r\n",
      "3 directories, 17 files\r\n"
     ]
    }
   ],
   "source": [
    "!tree"
   ]
  },
  {
   "cell_type": "code",
   "execution_count": null,
   "metadata": {},
   "outputs": [],
   "source": [
    "# GWAS解析？\n",
    "!time ./plinl"
   ]
  }
 ],
 "metadata": {
  "kernelspec": {
   "display_name": "Python 3",
   "language": "python",
   "name": "python3"
  },
  "language_info": {
   "codemirror_mode": {
    "name": "ipython",
    "version": 3
   },
   "file_extension": ".py",
   "mimetype": "text/x-python",
   "name": "python",
   "nbconvert_exporter": "python",
   "pygments_lexer": "ipython3",
   "version": "3.6.8"
  }
 },
 "nbformat": 4,
 "nbformat_minor": 2
}
